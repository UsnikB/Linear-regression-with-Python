{
 "cells": [
  {
   "cell_type": "code",
   "execution_count": 3,
   "id": "947e5d3d",
   "metadata": {},
   "outputs": [],
   "source": [
    "import numpy as np # linear algebra\n",
    "import pandas as pd # data processing\n",
    "\n",
    "import matplotlib.pyplot as plt\n",
    "import datetime\n",
    "from sklearn.model_selection import train_test_split\n",
    "from sklearn.linear_model import LinearRegression"
   ]
  },
  {
   "cell_type": "code",
   "execution_count": 6,
   "id": "184783a5",
   "metadata": {},
   "outputs": [],
   "source": [
    "null_values = [\"null\"]  #dataset may contains null values in these forms\n",
    "dogecoin_dataset = pd.read_csv(\"./archive/DOGE-INR.csv\",na_values=null_values)"
   ]
  },
  {
   "cell_type": "code",
   "execution_count": 7,
   "id": "979ed4f8",
   "metadata": {},
   "outputs": [
    {
     "data": {
      "text/html": [
       "<div>\n",
       "<style scoped>\n",
       "    .dataframe tbody tr th:only-of-type {\n",
       "        vertical-align: middle;\n",
       "    }\n",
       "\n",
       "    .dataframe tbody tr th {\n",
       "        vertical-align: top;\n",
       "    }\n",
       "\n",
       "    .dataframe thead th {\n",
       "        text-align: right;\n",
       "    }\n",
       "</style>\n",
       "<table border=\"1\" class=\"dataframe\">\n",
       "  <thead>\n",
       "    <tr style=\"text-align: right;\">\n",
       "      <th></th>\n",
       "      <th>Date</th>\n",
       "      <th>Open</th>\n",
       "      <th>High</th>\n",
       "      <th>Low</th>\n",
       "      <th>Close</th>\n",
       "      <th>Adj Close</th>\n",
       "      <th>Volume</th>\n",
       "    </tr>\n",
       "  </thead>\n",
       "  <tbody>\n",
       "    <tr>\n",
       "      <th>0</th>\n",
       "      <td>2017-11-11</td>\n",
       "      <td>0.074644</td>\n",
       "      <td>0.081936</td>\n",
       "      <td>0.074328</td>\n",
       "      <td>0.078261</td>\n",
       "      <td>0.078261</td>\n",
       "      <td>145377173.0</td>\n",
       "    </tr>\n",
       "    <tr>\n",
       "      <th>1</th>\n",
       "      <td>2017-11-12</td>\n",
       "      <td>0.077447</td>\n",
       "      <td>0.078832</td>\n",
       "      <td>0.065263</td>\n",
       "      <td>0.067637</td>\n",
       "      <td>0.067637</td>\n",
       "      <td>214308634.0</td>\n",
       "    </tr>\n",
       "    <tr>\n",
       "      <th>2</th>\n",
       "      <td>2017-11-13</td>\n",
       "      <td>0.068183</td>\n",
       "      <td>0.079276</td>\n",
       "      <td>0.066426</td>\n",
       "      <td>0.079244</td>\n",
       "      <td>0.079244</td>\n",
       "      <td>162349496.0</td>\n",
       "    </tr>\n",
       "    <tr>\n",
       "      <th>3</th>\n",
       "      <td>2017-11-14</td>\n",
       "      <td>0.078565</td>\n",
       "      <td>0.081071</td>\n",
       "      <td>0.074006</td>\n",
       "      <td>0.077453</td>\n",
       "      <td>0.077453</td>\n",
       "      <td>173986236.0</td>\n",
       "    </tr>\n",
       "    <tr>\n",
       "      <th>4</th>\n",
       "      <td>2017-11-15</td>\n",
       "      <td>0.077770</td>\n",
       "      <td>0.088193</td>\n",
       "      <td>0.077083</td>\n",
       "      <td>0.087366</td>\n",
       "      <td>0.087366</td>\n",
       "      <td>185350147.0</td>\n",
       "    </tr>\n",
       "  </tbody>\n",
       "</table>\n",
       "</div>"
      ],
      "text/plain": [
       "         Date      Open      High       Low     Close  Adj Close       Volume\n",
       "0  2017-11-11  0.074644  0.081936  0.074328  0.078261   0.078261  145377173.0\n",
       "1  2017-11-12  0.077447  0.078832  0.065263  0.067637   0.067637  214308634.0\n",
       "2  2017-11-13  0.068183  0.079276  0.066426  0.079244   0.079244  162349496.0\n",
       "3  2017-11-14  0.078565  0.081071  0.074006  0.077453   0.077453  173986236.0\n",
       "4  2017-11-15  0.077770  0.088193  0.077083  0.087366   0.087366  185350147.0"
      ]
     },
     "execution_count": 7,
     "metadata": {},
     "output_type": "execute_result"
    }
   ],
   "source": [
    "dogecoin_dataset.head()"
   ]
  },
  {
   "cell_type": "code",
   "execution_count": 8,
   "id": "96a3a32c",
   "metadata": {},
   "outputs": [
    {
     "data": {
      "text/html": [
       "<div>\n",
       "<style scoped>\n",
       "    .dataframe tbody tr th:only-of-type {\n",
       "        vertical-align: middle;\n",
       "    }\n",
       "\n",
       "    .dataframe tbody tr th {\n",
       "        vertical-align: top;\n",
       "    }\n",
       "\n",
       "    .dataframe thead th {\n",
       "        text-align: right;\n",
       "    }\n",
       "</style>\n",
       "<table border=\"1\" class=\"dataframe\">\n",
       "  <thead>\n",
       "    <tr style=\"text-align: right;\">\n",
       "      <th></th>\n",
       "      <th>Open</th>\n",
       "      <th>High</th>\n",
       "      <th>Low</th>\n",
       "      <th>Close</th>\n",
       "      <th>Adj Close</th>\n",
       "      <th>Volume</th>\n",
       "    </tr>\n",
       "  </thead>\n",
       "  <tbody>\n",
       "    <tr>\n",
       "      <th>count</th>\n",
       "      <td>1539.000000</td>\n",
       "      <td>1539.000000</td>\n",
       "      <td>1539.000000</td>\n",
       "      <td>1539.000000</td>\n",
       "      <td>1539.000000</td>\n",
       "      <td>1.539000e+03</td>\n",
       "    </tr>\n",
       "    <tr>\n",
       "      <th>mean</th>\n",
       "      <td>3.963831</td>\n",
       "      <td>4.225268</td>\n",
       "      <td>3.708823</td>\n",
       "      <td>3.971573</td>\n",
       "      <td>3.971573</td>\n",
       "      <td>7.767045e+10</td>\n",
       "    </tr>\n",
       "    <tr>\n",
       "      <th>std</th>\n",
       "      <td>7.859533</td>\n",
       "      <td>8.482752</td>\n",
       "      <td>7.250396</td>\n",
       "      <td>7.865753</td>\n",
       "      <td>7.865753</td>\n",
       "      <td>2.814379e+11</td>\n",
       "    </tr>\n",
       "    <tr>\n",
       "      <th>min</th>\n",
       "      <td>0.068183</td>\n",
       "      <td>0.078832</td>\n",
       "      <td>0.065263</td>\n",
       "      <td>0.067637</td>\n",
       "      <td>0.067637</td>\n",
       "      <td>9.307612e+07</td>\n",
       "    </tr>\n",
       "    <tr>\n",
       "      <th>25%</th>\n",
       "      <td>0.178807</td>\n",
       "      <td>0.184084</td>\n",
       "      <td>0.174019</td>\n",
       "      <td>0.178698</td>\n",
       "      <td>0.178698</td>\n",
       "      <td>1.391200e+09</td>\n",
       "    </tr>\n",
       "    <tr>\n",
       "      <th>50%</th>\n",
       "      <td>0.222578</td>\n",
       "      <td>0.230998</td>\n",
       "      <td>0.214792</td>\n",
       "      <td>0.223050</td>\n",
       "      <td>0.223050</td>\n",
       "      <td>4.847696e+09</td>\n",
       "    </tr>\n",
       "    <tr>\n",
       "      <th>75%</th>\n",
       "      <td>0.681343</td>\n",
       "      <td>0.740139</td>\n",
       "      <td>0.623762</td>\n",
       "      <td>0.686132</td>\n",
       "      <td>0.686132</td>\n",
       "      <td>2.213874e+10</td>\n",
       "    </tr>\n",
       "    <tr>\n",
       "      <th>max</th>\n",
       "      <td>50.409313</td>\n",
       "      <td>54.056625</td>\n",
       "      <td>44.576260</td>\n",
       "      <td>50.187649</td>\n",
       "      <td>50.187649</td>\n",
       "      <td>5.175496e+12</td>\n",
       "    </tr>\n",
       "  </tbody>\n",
       "</table>\n",
       "</div>"
      ],
      "text/plain": [
       "              Open         High          Low        Close    Adj Close  \\\n",
       "count  1539.000000  1539.000000  1539.000000  1539.000000  1539.000000   \n",
       "mean      3.963831     4.225268     3.708823     3.971573     3.971573   \n",
       "std       7.859533     8.482752     7.250396     7.865753     7.865753   \n",
       "min       0.068183     0.078832     0.065263     0.067637     0.067637   \n",
       "25%       0.178807     0.184084     0.174019     0.178698     0.178698   \n",
       "50%       0.222578     0.230998     0.214792     0.223050     0.223050   \n",
       "75%       0.681343     0.740139     0.623762     0.686132     0.686132   \n",
       "max      50.409313    54.056625    44.576260    50.187649    50.187649   \n",
       "\n",
       "             Volume  \n",
       "count  1.539000e+03  \n",
       "mean   7.767045e+10  \n",
       "std    2.814379e+11  \n",
       "min    9.307612e+07  \n",
       "25%    1.391200e+09  \n",
       "50%    4.847696e+09  \n",
       "75%    2.213874e+10  \n",
       "max    5.175496e+12  "
      ]
     },
     "execution_count": 8,
     "metadata": {},
     "output_type": "execute_result"
    }
   ],
   "source": [
    "dogecoin_dataset.describe() #quick insight to find the plot limits"
   ]
  },
  {
   "cell_type": "code",
   "execution_count": 9,
   "id": "3fe32f52",
   "metadata": {},
   "outputs": [],
   "source": [
    "dogecoin_date = dogecoin_dataset['Date']\n",
    "dogecoin_open_data = dogecoin_dataset['Open']\n",
    "dogecoin_high_data = dogecoin_dataset['High']\n",
    "dogecoin_low_data = dogecoin_dataset['Low']\n",
    "dogecoin_close = dogecoin_dataset['Close']\n",
    "dogecoin_dataset['Volume'] /= pow(10,10)\n",
    "dogecoin_volume_data = dogecoin_dataset['Volume']"
   ]
  },
  {
   "cell_type": "code",
   "execution_count": 10,
   "id": "3659ca79",
   "metadata": {},
   "outputs": [],
   "source": [
    "#first date of dataset\n",
    "start_date = datetime.datetime.strptime(dogecoin_date[0],\"%Y-%m-%d\") \n",
    "#last date of dataset\n",
    "end_date = datetime.datetime.strptime(dogecoin_date[len(dogecoin_date)-1],\"%Y-%m-%d\")\n",
    "date_range = pd.date_range(start_date,end_date)"
   ]
  },
  {
   "cell_type": "code",
   "execution_count": 11,
   "id": "d665043d",
   "metadata": {},
   "outputs": [
    {
     "data": {
      "image/png": "[encoded data removed]",
      "text/plain": [
       "<Figure size 432x288 with 1 Axes>"
      ]
     },
     "metadata": {
      "needs_background": "light"
     },
     "output_type": "display_data"
    }
   ],
   "source": [
    "fig, ax = plt.subplots()\n",
    "ax.plot(date_range,dogecoin_open_data)\n",
    "ax.xaxis_date() \n",
    "fig.autofmt_xdate()\n",
    "plt.title(\"Open Price by Date\")\n",
    "plt.xlabel(\"Date\")\n",
    "plt.ylabel(\"Price\")\n",
    "plt.show()"
   ]
  },
  {
   "cell_type": "code",
   "execution_count": 12,
   "id": "015aa597",
   "metadata": {},
   "outputs": [
    {
     "data": {
      "image/png": "[encoded data removed]",
      "text/plain": [
       "<Figure size 432x288 with 1 Axes>"
      ]
     },
     "metadata": {
      "needs_background": "light"
     },
     "output_type": "display_data"
    }
   ],
   "source": [
    "fig, ax = plt.subplots()\n",
    "ax.plot(date_range,dogecoin_high_data)\n",
    "ax.xaxis_date() \n",
    "fig.autofmt_xdate()\n",
    "plt.title(\"High Price by Date\")\n",
    "plt.xlabel(\"Date\")\n",
    "plt.ylabel(\"Price\")\n",
    "plt.show()"
   ]
  },
  {
   "cell_type": "code",
   "execution_count": null,
   "id": "506c4368",
   "metadata": {},
   "outputs": [],
   "source": []
  }
 ],
 "metadata": {
  "kernelspec": {
   "display_name": "Python 3 (ipykernel)",
   "language": "python",
   "name": "python3"
  },
  "language_info": {
   "codemirror_mode": {
    "name": "ipython",
    "version": 3
   },
   "file_extension": ".py",
   "mimetype": "text/x-python",
   "name": "python",
   "nbconvert_exporter": "python",
   "pygments_lexer": "ipython3",
   "version": "3.9.7"
  }
 },
 "nbformat": 4,
 "nbformat_minor": 5
}
